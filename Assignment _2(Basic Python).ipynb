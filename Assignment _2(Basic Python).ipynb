{
 "cells": [
  {
   "cell_type": "code",
   "execution_count": 1,
   "id": "136669ae",
   "metadata": {},
   "outputs": [
    {
     "name": "stdout",
     "output_type": "stream",
     "text": [
      "Before swapping: a = 3 b = 5\n",
      "After swapping: a = 5 b = 3\n"
     ]
    }
   ],
   "source": [
    "# 1. Swapping the values of two variables\n",
    "a = 3\n",
    "b = 5\n",
    "print(\"Before swapping:\", \"a =\", a, \"b =\", b)\n",
    "a, b = b, a\n",
    "print(\"After swapping:\", \"a =\", a, \"b =\", b)\n"
   ]
  },
  {
   "cell_type": "code",
   "execution_count": 3,
   "id": "8b752fa1",
   "metadata": {},
   "outputs": [
    {
     "name": "stdout",
     "output_type": "stream",
     "text": [
      "Area of rectangle: 25\n"
     ]
    }
   ],
   "source": [
    "# 2. Calculating the area of a rectangle\n",
    "length = 5\n",
    "width = 5\n",
    "area = length * width\n",
    "print(\"Area of rectangle:\", area)"
   ]
  },
  {
   "cell_type": "code",
   "execution_count": 4,
   "id": "1484ab5d",
   "metadata": {},
   "outputs": [
    {
     "name": "stdout",
     "output_type": "stream",
     "text": [
      "Temperature in Celsius: 33.333333333333336\n"
     ]
    }
   ],
   "source": [
    "# 3. Converting temperature from Fahrenheit to Celsius\n",
    "fahrenheit = 92\n",
    "celsius = (fahrenheit - 32) * 5/9\n",
    "print(\"Temperature in Celsius:\", celsius)\n"
   ]
  },
  {
   "cell_type": "code",
   "execution_count": 5,
   "id": "f4774e4c",
   "metadata": {},
   "outputs": [
    {
     "name": "stdout",
     "output_type": "stream",
     "text": [
      "Volume of sphere: 113.09733552923254\n"
     ]
    }
   ],
   "source": [
    "# 4. Calculating the volume of a sphere\n",
    "import math\n",
    "radius = 3\n",
    "volume = (4/3) * math.pi * (radius ** 3)\n",
    "print(\"Volume of sphere:\", volume)"
   ]
  },
  {
   "cell_type": "code",
   "execution_count": 6,
   "id": "3e95220d",
   "metadata": {},
   "outputs": [
    {
     "name": "stdout",
     "output_type": "stream",
     "text": [
      "Average of three numbers: 3.0\n"
     ]
    }
   ],
   "source": [
    "# 5. Finding the average of three numbers\n",
    "num1 = 1\n",
    "num2 = 2\n",
    "num3 = 6\n",
    "average = (num1 + num2 + num3) / 3\n",
    "print(\"Average of three numbers:\", average)"
   ]
  },
  {
   "cell_type": "code",
   "execution_count": 7,
   "id": "1f85b657",
   "metadata": {},
   "outputs": [
    {
     "name": "stdout",
     "output_type": "stream",
     "text": [
      "Odd\n"
     ]
    }
   ],
   "source": [
    "# 6. Determining if a number is even or odd\n",
    "num = 3\n",
    "if num % 2 == 0:\n",
    "    print(\"Even\")\n",
    "else:\n",
    "    print(\"Odd\")"
   ]
  },
  {
   "cell_type": "code",
   "execution_count": 8,
   "id": "81c2fba5",
   "metadata": {},
   "outputs": [
    {
     "name": "stdout",
     "output_type": "stream",
     "text": [
      "Maximum of three numbers: 9\n"
     ]
    }
   ],
   "source": [
    "# 7. Finding the maximum of three numbers\n",
    "a = 4\n",
    "b = 9\n",
    "c = 2\n",
    "print(\"Maximum of three numbers:\", max(a, b, c))\n"
   ]
  },
  {
   "cell_type": "code",
   "execution_count": 9,
   "id": "25f1fdc6",
   "metadata": {},
   "outputs": [
    {
     "name": "stdout",
     "output_type": "stream",
     "text": [
      "Leap year\n"
     ]
    }
   ],
   "source": [
    "# 8. Determining if a year is a leap year or not\n",
    "year = 2024\n",
    "if (year % 4 == 0 and year % 100 != 0) or (year % 400 == 0):\n",
    "    print(\"Leap year\")\n",
    "else:\n",
    "    print(\"Not a leap year\")"
   ]
  },
  {
   "cell_type": "code",
   "execution_count": 10,
   "id": "a6447466",
   "metadata": {},
   "outputs": [
    {
     "name": "stdout",
     "output_type": "stream",
     "text": [
      "Negative\n"
     ]
    }
   ],
   "source": [
    "# 9. Determining if a number is positive, negative, or zero\n",
    "num = -5\n",
    "if num > 0:\n",
    "    print(\"Positive\")\n",
    "elif num < 0:\n",
    "    print(\"Negative\")\n",
    "else:\n",
    "    print(\"Zero\")"
   ]
  },
  {
   "cell_type": "code",
   "execution_count": 11,
   "id": "19e9ec4c",
   "metadata": {},
   "outputs": [
    {
     "name": "stdout",
     "output_type": "stream",
     "text": [
      "B\n"
     ]
    }
   ],
   "source": [
    "# 10. Calculating the grade based on a given percentage\n",
    "percentage = 85\n",
    "if percentage >= 90:\n",
    "    print(\"A\")\n",
    "elif percentage >= 80:\n",
    "    print(\"B\")\n",
    "elif percentage >= 70:\n",
    "    print(\"C\")\n",
    "elif percentage >= 60:\n",
    "    print(\"D\")\n",
    "else:\n",
    "    print(\"F\")"
   ]
  },
  {
   "cell_type": "code",
   "execution_count": 12,
   "id": "700d1aa0",
   "metadata": {},
   "outputs": [
    {
     "name": "stdout",
     "output_type": "stream",
     "text": [
      "Enter a number: 7\n",
      "1 2 3 4 5 6 7 "
     ]
    }
   ],
   "source": [
    "# 11. Printing the first `n` natural numbers\n",
    "n = int(input(\"Enter a number: \"))\n",
    "for i in range(1, n+1):\n",
    "    print(i, end=\" \")\n",
    "    \n"
   ]
  },
  {
   "cell_type": "code",
   "execution_count": 13,
   "id": "495f506e",
   "metadata": {},
   "outputs": [
    {
     "name": "stdout",
     "output_type": "stream",
     "text": [
      "Enter a number: 20\n",
      "\n",
      "Factorial of 20 : 2432902008176640000\n"
     ]
    }
   ],
   "source": [
    "# 12. Calculating the factorial of a number\n",
    "n = int(input(\"Enter a number: \"))\n",
    "fact = 1\n",
    "for i in range(1, n+1):\n",
    "    fact *= i\n",
    "print(\"\\nFactorial of\", n, \":\", fact)"
   ]
  },
  {
   "cell_type": "code",
   "execution_count": 14,
   "id": "b719c42c",
   "metadata": {},
   "outputs": [
    {
     "name": "stdout",
     "output_type": "stream",
     "text": [
      "Enter length of Fibonacci sequence: 25\n",
      "Fibonacci sequence of length 25 : [0, 1, 1, 2, 3, 5, 8, 13, 21, 34, 55, 89, 144, 233, 377, 610, 987, 1597, 2584, 4181, 6765, 10946, 17711, 28657, 46368]\n"
     ]
    }
   ],
   "source": [
    "# 13. Generating a Fibonacci sequence of length `n`\n",
    "n = int(input(\"Enter length of Fibonacci sequence: \"))\n",
    "fib_sequence = [0, 1]\n",
    "for i in range(2, n):\n",
    "    fib_sequence.append(fib_sequence[-1] + fib_sequence[-2])\n",
    "print(\"Fibonacci sequence of length\", n, \":\", fib_sequence)"
   ]
  },
  {
   "cell_type": "code",
   "execution_count": 15,
   "id": "92118231",
   "metadata": {},
   "outputs": [
    {
     "name": "stdout",
     "output_type": "stream",
     "text": [
      "Enter a number: 24\n",
      "Not Prime\n"
     ]
    }
   ],
   "source": [
    "# 14. Checking if a given number is prime or not\n",
    "num = int(input(\"Enter a number: \"))\n",
    "if num > 1:\n",
    "    for i in range(2, int(math.sqrt(num)) + 1):\n",
    "        if num % i == 0:\n",
    "            print(\"Not Prime\")\n",
    "            break\n",
    "    else:\n",
    "        print(\"Prime\")\n",
    "else:\n",
    "    print(\"Not Prime\")"
   ]
  },
  {
   "cell_type": "code",
   "execution_count": 16,
   "id": "0bf66dee",
   "metadata": {},
   "outputs": [
    {
     "name": "stdout",
     "output_type": "stream",
     "text": [
      "Enter a number: 23\n",
      "23 x 1 = 23\n",
      "23 x 2 = 46\n",
      "23 x 3 = 69\n",
      "23 x 4 = 92\n",
      "23 x 5 = 115\n",
      "23 x 6 = 138\n",
      "23 x 7 = 161\n",
      "23 x 8 = 184\n",
      "23 x 9 = 207\n",
      "23 x 10 = 230\n"
     ]
    }
   ],
   "source": [
    "# 15. Printing the multiplication table of a given number\n",
    "num = int(input(\"Enter a number: \"))\n",
    "for i in range(1, 11):\n",
    "    print(num, \"x\", i, \"=\", num*i)\n"
   ]
  },
  {
   "cell_type": "code",
   "execution_count": 17,
   "id": "28452895",
   "metadata": {},
   "outputs": [
    {
     "name": "stdout",
     "output_type": "stream",
     "text": [
      "Enter a number: 21\n",
      "Sum of even numbers between 1 and 21 : 110\n"
     ]
    }
   ],
   "source": [
    "# 16. Finding the sum of all even numbers between 1 and `n`\n",
    "n = int(input(\"Enter a number: \"))\n",
    "total = 0\n",
    "i = 2\n",
    "while i <= n:\n",
    "    total += i\n",
    "    i += 2\n",
    "print(\"Sum of even numbers between 1 and\", n, \":\", total)"
   ]
  },
  {
   "cell_type": "code",
   "execution_count": 18,
   "id": "9482f18d",
   "metadata": {},
   "outputs": [
    {
     "name": "stdout",
     "output_type": "stream",
     "text": [
      "Enter a number: 13\n",
      "Reverse of 0 : 31\n"
     ]
    }
   ],
   "source": [
    "# 17. Reversing a given number\n",
    "num = int(input(\"Enter a number: \"))\n",
    "rev_num = 0\n",
    "while num > 0:\n",
    "    digit = num % 10\n",
    "    rev_num = rev_num * 10 + digit\n",
    "    num //= 10\n",
    "print(\"Reverse of\", num, \":\", rev_num)"
   ]
  },
  {
   "cell_type": "code",
   "execution_count": 19,
   "id": "1903eb36",
   "metadata": {},
   "outputs": [
    {
     "name": "stdout",
     "output_type": "stream",
     "text": [
      "Enter a string: 26\n",
      "Not Palindrome\n"
     ]
    }
   ],
   "source": [
    "# 18. Checking if a given string is a palindrome\n",
    "s = input(\"Enter a string: \")\n",
    "if s == s[::-1]:\n",
    "    print(\"Palindrome\")\n",
    "else:\n",
    "    print(\"Not Palindrome\")"
   ]
  },
  {
   "cell_type": "code",
   "execution_count": 20,
   "id": "c173b66d",
   "metadata": {},
   "outputs": [
    {
     "name": "stdout",
     "output_type": "stream",
     "text": [
      "Guess the number (between 1 and 100): 56\n",
      "Too low! Try again.\n",
      "Guess the number (between 1 and 100): 23\n",
      "Too low! Try again.\n",
      "Guess the number (between 1 and 100): 12\n",
      "Too low! Try again.\n",
      "Guess the number (between 1 and 100): 78\n",
      "Too low! Try again.\n",
      "Guess the number (between 1 and 100): 89\n",
      "Too high! Try again.\n",
      "Guess the number (between 1 and 100): 81\n",
      "Too low! Try again.\n",
      "Guess the number (between 1 and 100): 82\n",
      "Congratulations! You guessed the number.\n"
     ]
    }
   ],
   "source": [
    "# 19. Generating a random number and allowing the user to guess it\n",
    "import random\n",
    "target = random.randint(1, 100)\n",
    "guess = None\n",
    "while guess != target:\n",
    "    guess = int(input(\"Guess the number (between 1 and 100): \"))\n",
    "    if guess < target:\n",
    "        print(\"Too low! Try again.\")\n",
    "    elif guess > target:\n",
    "        print(\"Too high! Try again.\")\n",
    "print(\"Congratulations! You guessed the number.\")"
   ]
  },
  {
   "cell_type": "code",
   "execution_count": null,
   "id": "66c11b40",
   "metadata": {},
   "outputs": [],
   "source": [
    "# 20. Finding the greatest common divisor (GCD) of two numbers\n",
    "a = int(input(\"Enter first number: \"))\n",
    "b = int(input(\"Enter second number: \"))\n",
    "while b != 0:\n",
    "    a, b = b, a % b\n",
    "print(\"GCD of\", a, \"and\", b, \":\", a)"
   ]
  }
 ],
 "metadata": {
  "kernelspec": {
   "display_name": "Python 3 (ipykernel)",
   "language": "python",
   "name": "python3"
  },
  "language_info": {
   "codemirror_mode": {
    "name": "ipython",
    "version": 3
   },
   "file_extension": ".py",
   "mimetype": "text/x-python",
   "name": "python",
   "nbconvert_exporter": "python",
   "pygments_lexer": "ipython3",
   "version": "3.11.5"
  }
 },
 "nbformat": 4,
 "nbformat_minor": 5
}
